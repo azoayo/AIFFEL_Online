{
  "nbformat": 4,
  "nbformat_minor": 0,
  "metadata": {
    "colab": {
      "provenance": [],
      "include_colab_link": true
    },
    "kernelspec": {
      "name": "python3",
      "display_name": "Python 3"
    },
    "language_info": {
      "name": "python"
    }
  },
  "cells": [
    {
      "cell_type": "markdown",
      "metadata": {
        "id": "view-in-github",
        "colab_type": "text"
      },
      "source": [
        "<a href=\"https://colab.research.google.com/github/azoayo/AIFFEL_Online/blob/master/Quest%2002/Quest02.ipynb\" target=\"_parent\"><img src=\"https://colab.research.google.com/assets/colab-badge.svg\" alt=\"Open In Colab\"/></a>"
      ]
    },
    {
      "cell_type": "code",
      "execution_count": null,
      "metadata": {
        "colab": {
          "base_uri": "https://localhost:8080/",
          "height": 686
        },
        "id": "2vWD_7DZvpAA",
        "outputId": "0461a59a-0efd-4e16-d03f-86243f458916"
      },
      "outputs": [
        {
          "output_type": "stream",
          "name": "stdout",
          "text": [
            "Requirement already satisfied: ColabTurtle in /usr/local/lib/python3.10/dist-packages (2.1.0)\n"
          ]
        },
        {
          "output_type": "display_data",
          "data": {
            "text/plain": [
              "<IPython.core.display.HTML object>"
            ],
            "text/html": [
              "\n",
              "      <svg width=\"800\" height=\"500\">\n",
              "        <rect width=\"100%\" height=\"100%\" fill=\"black\"/>\n",
              "        <line x1=\"400\" y1=\"250\" x2=\"400.0\" y2=\"270.0\" stroke-linecap=\"round\" style=\"stroke:white;stroke-width:2\"/><line x1=\"400.0\" y1=\"270.0\" x2=\"400.0\" y2=\"290.0\" stroke-linecap=\"round\" style=\"stroke:white;stroke-width:2\"/><line x1=\"400.0\" y1=\"290.0\" x2=\"400.0\" y2=\"310.0\" stroke-linecap=\"round\" style=\"stroke:white;stroke-width:2\"/><line x1=\"400.0\" y1=\"310.0\" x2=\"400.0\" y2=\"330.0\" stroke-linecap=\"round\" style=\"stroke:white;stroke-width:2\"/><line x1=\"400.0\" y1=\"330.0\" x2=\"420.0\" y2=\"330.0\" stroke-linecap=\"round\" style=\"stroke:white;stroke-width:2\"/><line x1=\"420.0\" y1=\"330.0\" x2=\"440.0\" y2=\"330.0\" stroke-linecap=\"round\" style=\"stroke:white;stroke-width:2\"/><line x1=\"440.0\" y1=\"330.0\" x2=\"460.0\" y2=\"330.0\" stroke-linecap=\"round\" style=\"stroke:white;stroke-width:2\"/><line x1=\"460.0\" y1=\"330.0\" x2=\"480.0\" y2=\"330.0\" stroke-linecap=\"round\" style=\"stroke:white;stroke-width:2\"/>\n",
              "        <g visibility=visible transform=\"rotate(90,480.0,330.0) translate(462.0, 312.0)\">\n",
              "<path style=\" stroke:none;fill-rule:evenodd;fill:white;fill-opacity:1;\" d=\"M 18.214844 0.632812 C 16.109375 1.800781 15.011719 4.074219 15.074219 7.132812 L 15.085938 7.652344 L 14.785156 7.496094 C 13.476562 6.824219 11.957031 6.671875 10.40625 7.066406 C 8.46875 7.550781 6.515625 9.15625 4.394531 11.992188 C 3.0625 13.777344 2.679688 14.636719 3.042969 15.027344 L 3.15625 15.152344 L 3.519531 15.152344 C 4.238281 15.152344 4.828125 14.886719 8.1875 13.039062 C 9.386719 12.378906 10.371094 11.839844 10.378906 11.839844 C 10.386719 11.839844 10.355469 11.929688 10.304688 12.035156 C 9.832031 13.09375 9.257812 14.820312 8.96875 16.078125 C 7.914062 20.652344 8.617188 24.53125 11.070312 27.660156 C 11.351562 28.015625 11.363281 27.914062 10.972656 28.382812 C 8.925781 30.84375 7.945312 33.28125 8.238281 35.1875 C 8.289062 35.527344 8.28125 35.523438 8.917969 35.523438 C 10.941406 35.523438 13.074219 34.207031 15.136719 31.6875 C 15.359375 31.417969 15.328125 31.425781 15.5625 31.574219 C 16.292969 32.042969 18.023438 32.964844 18.175781 32.964844 C 18.335938 32.964844 19.941406 32.210938 20.828125 31.71875 C 20.996094 31.625 21.136719 31.554688 21.136719 31.558594 C 21.203125 31.664062 21.898438 32.414062 22.222656 32.730469 C 23.835938 34.300781 25.5625 35.132812 27.582031 35.300781 C 27.90625 35.328125 27.9375 35.308594 28.007812 34.984375 C 28.382812 33.242188 27.625 30.925781 25.863281 28.425781 L 25.542969 27.96875 L 25.699219 27.785156 C 28.945312 23.960938 29.132812 18.699219 26.257812 11.96875 L 26.207031 11.84375 L 27.945312 12.703125 C 31.53125 14.476562 32.316406 14.800781 33.03125 14.800781 C 33.976562 14.800781 33.78125 13.9375 32.472656 12.292969 C 28.519531 7.355469 25.394531 5.925781 21.921875 7.472656 L 21.558594 7.636719 L 21.578125 7.542969 C 21.699219 6.992188 21.761719 5.742188 21.699219 5.164062 C 21.496094 3.296875 20.664062 1.964844 19.003906 0.855469 C 18.480469 0.503906 18.457031 0.5 18.214844 0.632812\"/>\n",
              "</g>\n",
              "      </svg>\n",
              "    "
            ]
          },
          "metadata": {}
        },
        {
          "output_type": "stream",
          "name": "stdout",
          "text": [
            "미로 탐색 시작\n",
            "미로를 찾았습니다.\n",
            "지나간 길:\n",
            "[0, 1, 0, 0, 0]\n",
            "[2, 0, 0, 1, 0]\n",
            "[2, 1, 1, 0, 0]\n",
            "[2, 0, 1, 1, 0]\n",
            "[2, 2, 2, 2, 2]\n"
          ]
        }
      ],
      "source": [
        "!pip install ColabTurtle\n",
        "\n",
        "from ColabTurtle.Turtle import *\n",
        "\n",
        "# 미로를 입력한다.\n",
        "maze = [[0, 1, 0, 0, 0],\n",
        "        [0, 0, 0, 1, 0],\n",
        "        [0, 1, 1, 0, 0],\n",
        "        [0, 0, 1, 1, 0],\n",
        "        [0, 0, 0, 1, 0]]\n",
        "\n",
        "\n",
        "# 출구 좌표값을 설정\n",
        "def is_exit(x, y):\n",
        "    return x == 4 and y == 4\n",
        "\n",
        "# 미로 탐색 함수\n",
        "def explore_maze(x, y):\n",
        "    # 미로 밖의 좌표를 설정하는 경우 false 반환\n",
        "    if x < 0 or y < 0 or x >= 5 or y >= 5:\n",
        "        return False\n",
        "    # 만약 벽이거나 지나온 길이면 false 반환\n",
        "    if maze[x][y] == 1 or maze[x][y] == 2:\n",
        "        return False\n",
        "    # 출구좌표와 일치 한다면 True\n",
        "    if is_exit(x, y):\n",
        "        return True\n",
        "    # x,y 값을 지나온 길로 설정\n",
        "    maze[x][y] = 2\n",
        "\n",
        "    #반복해서 상하좌우 좌표 함수로 들어\n",
        "    if explore_maze(x + 1, y):\n",
        "        seth(0)\n",
        "        forward(20)\n",
        "        return True\n",
        "\n",
        "    if explore_maze(x - 1, y):\n",
        "        seth(180)\n",
        "        forward(20)\n",
        "        return True\n",
        "\n",
        "    if explore_maze(x, y + 1):\n",
        "        seth(90)\n",
        "        forward(20)\n",
        "        return True\n",
        "\n",
        "    if explore_maze(x, y - 1):\n",
        "        seth(270)\n",
        "        forward(20)\n",
        "        return True\n",
        "\n",
        "    # 회귀 종료\n",
        "    maze[x][y] = 0\n",
        "    return False\n",
        "\n",
        "# 거북이 상태\n",
        "initializeTurtle(initial_speed=10)\n",
        "speed(5)\n",
        "width(2)\n",
        "\n",
        "#지나간 길 출력\n",
        "def print_maze():\n",
        "    for row in maze:\n",
        "        print(row)\n",
        "\n",
        "print(\"미로 탐색 시작\")\n",
        "# 미로 출력 값이 참이면 결과값 출력 거짓이면 메시지 출력\n",
        "if explore_maze(0, 0):\n",
        "    print(\"미로를 찾았습니다.\")\n",
        "    maze[4][4] = 2\n",
        "    maze[0][0] = 0\n",
        "    print(\"지나간 길:\")\n",
        "    print_maze()\n",
        "else:\n",
        "    print(\"미로를 찾을 수 없습니다.\")\n",
        "\n"
      ]
    },
    {
      "cell_type": "code",
      "source": [],
      "metadata": {
        "id": "U-6jInzbxdpr"
      },
      "execution_count": null,
      "outputs": []
    }
  ]
}